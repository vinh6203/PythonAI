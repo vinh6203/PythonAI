{
  "nbformat": 4,
  "nbformat_minor": 0,
  "metadata": {
    "colab": {
      "provenance": [],
      "toc_visible": true
    },
    "kernelspec": {
      "name": "python3",
      "display_name": "Python 3"
    },
    "language_info": {
      "name": "python"
    }
  },
  "cells": [
    {
      "cell_type": "code",
      "execution_count": 110,
      "metadata": {
        "id": "20hg8mEVeBCa"
      },
      "outputs": [],
      "source": [
        "import pandas as pd\n",
        "from sklearn.model_selection import train_test_split\n",
        "from sklearn.metrics import precision_score, recall_score, f1_score, mean_squared_error\n",
        "from sklearn.preprocessing import StandardScaler\n",
        "from sklearn.linear_model import Perceptron, PassiveAggressiveClassifier\n",
        "from sklearn.linear_model import LinearRegression, Ridge, RidgeCV\n",
        "from sklearn.neural_network import MLPClassifier\n",
        "from sklearn.naive_bayes import MultinomialNB\n",
        "from sklearn.tree import DecisionTreeClassifier\n",
        "from sklearn.neighbors import KNeighborsClassifier\n",
        "from sklearn.svm import SVC"
      ]
    },
    {
      "cell_type": "code",
      "source": [
        "data = pd.read_csv(\"drive/MyDrive/data/Hydropower_Consumption.csv\")\n",
        "print(data.shape)\n",
        "data = data.values[:,1:]\n",
        "print(data)"
      ],
      "metadata": {
        "colab": {
          "base_uri": "https://localhost:8080/"
        },
        "id": "y57jdkAHfViZ",
        "outputId": "5d58cfd4-a47d-4ace-d1bf-9eef00c0f4b0"
      },
      "execution_count": 111,
      "outputs": [
        {
          "output_type": "stream",
          "name": "stdout",
          "text": [
            "(153, 21)\n",
            "[[312 498 555 ... 105 105 107]\n",
            " [75246 80864 85181 ... 130388 132735 0]\n",
            " [4548 3519 3477 ... 448 448 4018]\n",
            " ...\n",
            " [14551 1821 18198 ... 88762 84485 65563]\n",
            " [7673 7814 8021 ... 12076 12076 11799]\n",
            " [3227 2968 3786 ... 3929 3929 3592]]\n"
          ]
        }
      ]
    },
    {
      "cell_type": "code",
      "source": [
        "X = data[:, :-1]  # feature data\n",
        "y = data[:, -1:]  # label\n",
        "X_train, X_test, y_train, y_test = train_test_split(X, y, test_size=0.25, random_state=42, shuffle=True)\n",
        "\n",
        "y_train = y_train[:, 0]\n",
        "y_test = y_test[:, 0]"
      ],
      "metadata": {
        "id": "8_Owa0bbgGbZ"
      },
      "execution_count": 112,
      "outputs": []
    },
    {
      "cell_type": "code",
      "source": [
        "# model selection\n",
        "regressors = [\n",
        "              LinearRegression(),\n",
        "              Ridge(),\n",
        "              RidgeCV(),\n",
        "             ]\n",
        "\n",
        "# Normalized data\n",
        "# scaler = StandardScaler()\n",
        "# X_train = scaler.fit_transform(X_train)\n",
        "# X_test = scaler.transform(X_test)\n",
        "\n",
        "# Model training and performance evaluation\n",
        "for regressor in regressors:\n",
        "  model = regressor\n",
        "  model.fit(X_train, y_train)\n",
        "  y_pred = model.predict(X_test)\n",
        "  print(\"%s\" % (model))\n",
        "  print(\"Root Mean Squared Error:\", mean_squared_error(y_test, y_pred)**0.5)\n",
        "  print(\"\")"
      ],
      "metadata": {
        "id": "0nG6GttjiQLf",
        "colab": {
          "base_uri": "https://localhost:8080/"
        },
        "outputId": "f0213dfd-b393-4723-ef68-e05526ce29b5"
      },
      "execution_count": 113,
      "outputs": [
        {
          "output_type": "stream",
          "name": "stdout",
          "text": [
            "LinearRegression()\n",
            "Root Mean Squared Error: 12021.416220511568\n",
            "\n",
            "Ridge()\n",
            "Root Mean Squared Error: 12021.416178347119\n",
            "\n",
            "RidgeCV()\n",
            "Root Mean Squared Error: 11948.951359360191\n",
            "\n"
          ]
        }
      ]
    },
    {
      "cell_type": "code",
      "source": [
        "# Using Principal Component Regression (PCR) = Principal Component Analysis (PCA) + Linear Regression\n",
        "# Plus: Trying other model after PCA transform\n",
        "import numpy as np\n",
        "from numpy.linalg import svd\n",
        "from sklearn.decomposition import PCA\n",
        "from sklearn.pipeline import make_pipeline # Sequentially apply a list of transforms and a final estimator\n",
        "\n",
        "# Standardized and find tuning parameter k (number of Pricipal Component)\n",
        "scaler = StandardScaler()\n",
        "Xs = scaler.fit_transform(X).astype(\"float64\")\n",
        "cov_Xs = 1/(Xs.shape[0]-1) * Xs.T @ Xs\n",
        "u, s, uT = svd(cov_Xs)\n",
        "k = 10\n",
        "print(\"inflection point:\", np.sum(s[:k])/np.sum(s))\n",
        "print(\"\")\n",
        "\n",
        "# Transform the data\n",
        "pca_ = PCA(n_components=k)\n",
        "X_transformed = pca_.fit_transform(Xs)\n",
        "X_train, X_test, y_train, y_test = train_test_split(X_transformed, y, test_size=0.25, random_state=42, shuffle=True)\n",
        "y_train = y_train[:, 0]\n",
        "y_test = y_test[:, 0]\n",
        "\n",
        "\n",
        "# Model training and performance evaluation\n",
        "for regressor in regressors:\n",
        "  model = regressor\n",
        "  model.fit(X_train, y_train)\n",
        "  y_pred = model.predict(X_test)\n",
        "  print(\"%s\" % (model))\n",
        "  print(\"Root Mean Squared Error:\", mean_squared_error(y_test, y_pred)**0.5)\n",
        "  print(\"\")"
      ],
      "metadata": {
        "colab": {
          "base_uri": "https://localhost:8080/"
        },
        "id": "vS-yD65WnIey",
        "outputId": "731d4e25-e69e-4236-ac78-9f8d80a8d2e0"
      },
      "execution_count": 114,
      "outputs": [
        {
          "output_type": "stream",
          "name": "stdout",
          "text": [
            "inflection point: 0.9988244146750525\n",
            "\n",
            "LinearRegression()\n",
            "Root Mean Squared Error: 7482.575589445003\n",
            "\n",
            "Ridge()\n",
            "Root Mean Squared Error: 61485.34128757519\n",
            "\n",
            "RidgeCV()\n",
            "Root Mean Squared Error: 76637.9137590876\n",
            "\n"
          ]
        }
      ]
    }
  ]
}
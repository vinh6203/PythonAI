{
 "cells": [
  {
   "cell_type": "code",
   "execution_count": 101,
   "id": "b743ca9b",
   "metadata": {},
   "outputs": [],
   "source": [
    "import pygame"
   ]
  },
  {
   "cell_type": "code",
   "execution_count": 102,
   "id": "98f3e6f4",
   "metadata": {},
   "outputs": [],
   "source": [
    "import random"
   ]
  },
  {
   "cell_type": "code",
   "execution_count": 103,
   "id": "681569f6",
   "metadata": {},
   "outputs": [],
   "source": [
    "#Bird\n",
    "BIRD_IMG = pygame.image.load('bird.jpg')\n",
    "BIRD_START_X = 50\n",
    "BIRD_START_Y = 250\n",
    "bird_x = BIRD_START_X\n",
    "bird_y = BIRD_START_Y\n",
    "bird_y_change = 0\n",
    "\n",
    "#Obstacle\n",
    "OBSTACLE_WIDTH = 60\n",
    "OBSTACLE_HEIGHT = random.randint(150, 450)\n",
    "OBSTACLE_COLOR = (114, 255, 3)\n",
    "OBSTACLE_X_CHANGE = -0.5  #speed of obstacle\n",
    "OBSTACLE_SPAWN_POINT = 500\n",
    "OBSTACLE_END_POINT = 20 #When reach this, spawn new obstacle\n",
    "OBSTACLE_START_X = 1000\n",
    "DISTANCE_BETWEEN_TOP_BOT = 170 #distance between top and bottom obstacle\n",
    "obstacle_x = OBSTACLE_START_X\n",
    "\n",
    "#Window\n",
    "MAP_BOTTOM = 535\n",
    "WINDOW_WIDTH = 900\n",
    "WINDOW_HEIGHT = 600"
   ]
  },
  {
   "cell_type": "code",
   "execution_count": 104,
   "id": "eb93240f",
   "metadata": {},
   "outputs": [],
   "source": [
    "def display_bird(x, y):\n",
    "    WINDOW.blit(BIRD_IMG, (x, y))\n",
    "    \n",
    "def display_score(score):\n",
    "    displayText = textFont.render(f\"Score: {score}\", True, (255, 255, 255))\n",
    "    WINDOW.blit(displayText, (300, 150))\n",
    "    \n",
    "#height = obstacle height\n",
    "def display_obstacle(height):\n",
    "    pygame.draw.rect(WINDOW, OBSTACLE_COLOR, (obstacle_x, 0, OBSTACLE_WIDTH, height))\n",
    "    bottom_obstacle_height = MAP_BOTTOM - height - DISTANCE_BETWEEN_TOP_BOT\n",
    "    pygame.draw.rect(WINDOW, OBSTACLE_COLOR, (obstacle_x, MAP_BOTTOM, OBSTACLE_WIDTH, bottom_obstacle_height))\n",
    "    \n",
    "def collision_check(obstacle_x, obstacle_height, bird_y):\n",
    "    if obstacle_x >= bird_x and obstacle_x <= (bird_x + OBSTACLE_WIDTH) \\\n",
    "    and (bird_y <= obstacle_height or bird_y >= obstacle_height + DISTANCE_BETWEEN_TOP_BOT):\n",
    "            return True\n",
    "    return False"
   ]
  },
  {
   "cell_type": "code",
   "execution_count": 105,
   "id": "9181731b",
   "metadata": {
    "scrolled": true
   },
   "outputs": [],
   "source": [
    "#Main\n",
    "pygame.init()\n",
    "\n",
    "WINDOW = pygame.display.set_mode((WINDOW_WIDTH, WINDOW_HEIGHT))\n",
    "BACKGROUND = pygame.image.load('background.jpg')\n",
    "\n",
    "textFont = pygame.font.SysFont('arial', 32)\n",
    "running = True\n",
    "collision = False\n",
    "newGame = True\n",
    "score = 0\n",
    "\n",
    "while running:\n",
    "    \n",
    "    WINDOW.fill((0, 0, 0))\n",
    "    WINDOW.blit(BACKGROUND, (0, 0)) #display background img\n",
    "    \n",
    "    #New Game check\n",
    "    while newGame:\n",
    "        displayText = textFont.render(f\"PRESS SPACE BAR TO START\", True, (255, 255, 255))\n",
    "        WINDOW.blit(displayText, (200, 150))\n",
    "        pygame.display.update()\n",
    "        \n",
    "        for event in pygame.event.get():\n",
    "            if event.type == pygame.KEYDOWN and event.key == pygame.K_SPACE:\n",
    "                bird_y = BIRD_START_Y\n",
    "                obstacle_x = OBSTACLE_START_X\n",
    "                newGame = False\n",
    "                score = 0\n",
    "            if event.type == pygame.QUIT:\n",
    "                running = False\n",
    "                newGame = False\n",
    "    #Keyboard input\n",
    "    for event in pygame.event.get():\n",
    "        if event.type == pygame.QUIT:\n",
    "            running = False\n",
    "            \n",
    "        if event.type == pygame.KEYDOWN and event.key == pygame.K_SPACE:\n",
    "            #go up, minus in y-axis\n",
    "            bird_y_change = -1\n",
    "\n",
    "        if event.type == pygame.KEYUP and event.key == pygame.K_SPACE:\n",
    "            #go down, plus in y-axis\n",
    "            bird_y_change = 0.5\n",
    "    \n",
    "    #Bird Change\n",
    "    bird_y += bird_y_change\n",
    "    if bird_y <= 0:\n",
    "        bird_y = 0\n",
    "    if bird_y >= 571:\n",
    "        bird_y = 571\n",
    "    \n",
    "    \n",
    "    #Collision check\n",
    "    collision = collision_check(obstacle_x, OBSTACLE_HEIGHT, bird_y)\n",
    "    if collision:\n",
    "        newGame = True\n",
    "    \n",
    "    #Obstacle Change\n",
    "    obstacle_x += OBSTACLE_X_CHANGE\n",
    "    if obstacle_x <= OBSTACLE_END_POINT:\n",
    "        obstacle_x = OBSTACLE_SPAWN_POINT\n",
    "        OBSTACLE_HEIGHT = random.randint(150, 350)\n",
    "        score += 1\n",
    "    \n",
    "    #Display\n",
    "    display_obstacle(OBSTACLE_HEIGHT)\n",
    "    display_bird(bird_x, bird_y)\n",
    "    display_score(score)\n",
    "    \n",
    "    pygame.display.update()\n",
    "    \n",
    "pygame.quit()"
   ]
  },
  {
   "cell_type": "code",
   "execution_count": null,
   "id": "fc7198b1",
   "metadata": {},
   "outputs": [],
   "source": []
  }
 ],
 "metadata": {
  "kernelspec": {
   "display_name": "Python 3 (ipykernel)",
   "language": "python",
   "name": "python3"
  },
  "language_info": {
   "codemirror_mode": {
    "name": "ipython",
    "version": 3
   },
   "file_extension": ".py",
   "mimetype": "text/x-python",
   "name": "python",
   "nbconvert_exporter": "python",
   "pygments_lexer": "ipython3",
   "version": "3.10.6"
  },
  "vscode": {
   "interpreter": {
    "hash": "beedbe2faf2f7048d727558d0bc3221e7eba2a0b921cac4d4771b2feb8f74b30"
   }
  }
 },
 "nbformat": 4,
 "nbformat_minor": 5
}

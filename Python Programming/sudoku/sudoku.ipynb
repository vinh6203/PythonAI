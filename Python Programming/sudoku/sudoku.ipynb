{
 "cells": [
  {
   "cell_type": "code",
   "execution_count": 1,
   "id": "03ac69e1",
   "metadata": {},
   "outputs": [
    {
     "name": "stdout",
     "output_type": "stream",
     "text": [
      "Enter board size: -1\n",
      "n must be square number\n",
      "Enter board size: 5\n",
      "n must be square number\n",
      "Enter board size: 9\n"
     ]
    }
   ],
   "source": [
    "import math\n",
    "def is_squareNum(n):\n",
    "    return n >= 4 and int(math.sqrt(n) + 0.5) ** 2 == n\n",
    "    \n",
    "n = int(input(\"Enter board size: \"))\n",
    "while not is_squareNum(n):\n",
    "    print(\"n must be square number\")\n",
    "    n = int(input(\"Enter board size: \"))\n",
    "    \n",
    "boxSize = int(math.sqrt(n))"
   ]
  },
  {
   "cell_type": "code",
   "execution_count": 2,
   "id": "68d02f75",
   "metadata": {},
   "outputs": [],
   "source": [
    "board = []"
   ]
  },
  {
   "cell_type": "code",
   "execution_count": 3,
   "id": "65f35a4a",
   "metadata": {},
   "outputs": [
    {
     "name": "stdout",
     "output_type": "stream",
     "text": [
      "0 0 0 0 0 3 2 9 0\n",
      "0 8 6 5 0 0 0 0 0 0\n",
      "Invalid row length!\n",
      "0 8 6 5 0 0 0 0 0\n",
      "0 2 0 0 0 1 0 0 0\n",
      "0 0 3 7 0 5 1 0 0\n",
      "9 0 0 0 0 0 0 0 8\n",
      "0 0 2 9 0 8 3 0 0\n",
      "0 0 0 4 0 0 0 8 0\n",
      "0 0 0 0 0 6 4 7 0\n",
      "0 4 7 1 0 0 0 0 0\n"
     ]
    }
   ],
   "source": [
    "for _ in range(n):\n",
    "    board.append(list(map(int, input().split())))\n",
    "    while len(board[-1]) != n:\n",
    "        print(\"Invalid row length!\")\n",
    "        board.pop()\n",
    "        board.append(list(map(int, input().split())))"
   ]
  },
  {
   "cell_type": "code",
   "execution_count": 4,
   "id": "36955612",
   "metadata": {},
   "outputs": [
    {
     "name": "stdout",
     "output_type": "stream",
     "text": [
      "[0, 0, 0, 0, 0, 3, 2, 9, 0]\n",
      "[0, 8, 6, 5, 0, 0, 0, 0, 0]\n",
      "[0, 2, 0, 0, 0, 1, 0, 0, 0]\n",
      "[0, 0, 3, 7, 0, 5, 1, 0, 0]\n",
      "[9, 0, 0, 0, 0, 0, 0, 0, 8]\n",
      "[0, 0, 2, 9, 0, 8, 3, 0, 0]\n",
      "[0, 0, 0, 4, 0, 0, 0, 8, 0]\n",
      "[0, 0, 0, 0, 0, 6, 4, 7, 0]\n",
      "[0, 4, 7, 1, 0, 0, 0, 0, 0]\n"
     ]
    }
   ],
   "source": [
    "for row in board: print(row)"
   ]
  },
  {
   "cell_type": "code",
   "execution_count": 5,
   "id": "3f505344",
   "metadata": {},
   "outputs": [],
   "source": [
    "def check(row, col, val):\n",
    "    global boxSize, board\n",
    "    for i, j in zip(range(n), range(n)):\n",
    "        if board[i][col] == val or board[row][j] == val:\n",
    "            return False\n",
    "    boxRow = (row//boxSize)*boxSize\n",
    "    boxCol = (col//boxSize)*boxSize\n",
    "    for i in range(boxSize):\n",
    "        for j in range(boxSize):\n",
    "            if board[boxRow + i][boxCol + j] == val:\n",
    "                return False\n",
    "    return True"
   ]
  },
  {
   "cell_type": "code",
   "execution_count": 6,
   "id": "f421f338",
   "metadata": {},
   "outputs": [],
   "source": [
    "def solve():\n",
    "    global boxSize, board\n",
    "    for i in range(n):\n",
    "        for j in range(n):\n",
    "            if board[i][j] == 0:\n",
    "                for val in range(1, n+1):\n",
    "                    if check(i, j, val):\n",
    "                        board[i][j] = val\n",
    "                        solve()\n",
    "                        board[i][j] = 0\n",
    "                return\n",
    "    for i in board:\n",
    "        print(i)"
   ]
  },
  {
   "cell_type": "code",
   "execution_count": 7,
   "id": "e3c34080",
   "metadata": {},
   "outputs": [
    {
     "name": "stdout",
     "output_type": "stream",
     "text": [
      "[1, 5, 4, 8, 7, 3, 2, 9, 6]\n",
      "[3, 8, 6, 5, 9, 2, 7, 1, 4]\n",
      "[7, 2, 9, 6, 4, 1, 8, 3, 5]\n",
      "[8, 6, 3, 7, 2, 5, 1, 4, 9]\n",
      "[9, 7, 5, 3, 1, 4, 6, 2, 8]\n",
      "[4, 1, 2, 9, 6, 8, 3, 5, 7]\n",
      "[6, 3, 1, 4, 5, 7, 9, 8, 2]\n",
      "[5, 9, 8, 2, 3, 6, 4, 7, 1]\n",
      "[2, 4, 7, 1, 8, 9, 5, 6, 3]\n"
     ]
    }
   ],
   "source": [
    "solve()"
   ]
  }
 ],
 "metadata": {
  "kernelspec": {
   "display_name": "Python 3 (ipykernel)",
   "language": "python",
   "name": "python3"
  },
  "language_info": {
   "codemirror_mode": {
    "name": "ipython",
    "version": 3
   },
   "file_extension": ".py",
   "mimetype": "text/x-python",
   "name": "python",
   "nbconvert_exporter": "python",
   "pygments_lexer": "ipython3",
   "version": "3.10.6"
  }
 },
 "nbformat": 4,
 "nbformat_minor": 5
}

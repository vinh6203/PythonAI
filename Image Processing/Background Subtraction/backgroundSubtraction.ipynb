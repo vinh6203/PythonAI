{
 "cells": [
  {
   "cell_type": "code",
   "execution_count": 21,
   "id": "0398d92c",
   "metadata": {},
   "outputs": [],
   "source": [
    "import matplotlib.pyplot as plt\n",
    "import numpy as np\n",
    "import cv2"
   ]
  },
  {
   "cell_type": "code",
   "execution_count": 22,
   "id": "7199cb95",
   "metadata": {},
   "outputs": [],
   "source": [
    "# Background Subtraction duoc su dung de phat hien cac chuyen dong, xoa background trong video\n",
    "# Su dung cac ham loc nhu Mean, Median filter cua tung anh (trong 1 khoang thoi gian truoc do) de tim ra foreground mask\n",
    "foreground_background = cv2.createBackgroundSubtractorMOG2();\n",
    "cap = cv2.VideoCapture(0); # Using device camera to record"
   ]
  },
  {
   "cell_type": "code",
   "execution_count": 23,
   "id": "2aa1f51d",
   "metadata": {},
   "outputs": [],
   "source": [
    "while True:\n",
    "    \n",
    "    ret, frame = cap.read();\n",
    "    if frame is None:\n",
    "        break\n",
    "        \n",
    "    foreground_mask = foreground_background.apply(frame)\n",
    "    cv2.imshow('test', foreground_mask)\n",
    "    if cv2.waitKey(30) & 0xff == 27:\n",
    "        break"
   ]
  },
  {
   "cell_type": "code",
   "execution_count": 24,
   "id": "f35c0b17",
   "metadata": {},
   "outputs": [],
   "source": [
    "cap.release();\n",
    "cv2.destroyAllWindows();"
   ]
  },
  {
   "cell_type": "code",
   "execution_count": null,
   "id": "1f4fae7c",
   "metadata": {},
   "outputs": [],
   "source": []
  }
 ],
 "metadata": {
  "kernelspec": {
   "display_name": "Python 3 (ipykernel)",
   "language": "python",
   "name": "python3"
  },
  "language_info": {
   "codemirror_mode": {
    "name": "ipython",
    "version": 3
   },
   "file_extension": ".py",
   "mimetype": "text/x-python",
   "name": "python",
   "nbconvert_exporter": "python",
   "pygments_lexer": "ipython3",
   "version": "3.11.2"
  }
 },
 "nbformat": 4,
 "nbformat_minor": 5
}

{
 "cells": [
  {
   "cell_type": "code",
   "execution_count": 53,
   "id": "3d32dade",
   "metadata": {},
   "outputs": [],
   "source": [
    "from sklearn.decomposition import PCA\n",
    "import matplotlib.pyplot as plt\n",
    "import pandas as pd\n",
    "import numpy as np"
   ]
  },
  {
   "cell_type": "code",
   "execution_count": 54,
   "id": "9904481c",
   "metadata": {},
   "outputs": [
    {
     "data": {
      "text/html": [
       "<div>\n",
       "<style scoped>\n",
       "    .dataframe tbody tr th:only-of-type {\n",
       "        vertical-align: middle;\n",
       "    }\n",
       "\n",
       "    .dataframe tbody tr th {\n",
       "        vertical-align: top;\n",
       "    }\n",
       "\n",
       "    .dataframe thead th {\n",
       "        text-align: right;\n",
       "    }\n",
       "</style>\n",
       "<table border=\"1\" class=\"dataframe\">\n",
       "  <thead>\n",
       "    <tr style=\"text-align: right;\">\n",
       "      <th></th>\n",
       "      <th>Avg. Area Income</th>\n",
       "      <th>Avg. Area House Age</th>\n",
       "      <th>Avg. Area Number of Rooms</th>\n",
       "      <th>Avg. Area Number of Bedrooms</th>\n",
       "      <th>Area Population</th>\n",
       "      <th>Price</th>\n",
       "      <th>Address</th>\n",
       "    </tr>\n",
       "  </thead>\n",
       "  <tbody>\n",
       "    <tr>\n",
       "      <th>0</th>\n",
       "      <td>79545.458574</td>\n",
       "      <td>5.682861</td>\n",
       "      <td>7.009188</td>\n",
       "      <td>4.09</td>\n",
       "      <td>23086.800503</td>\n",
       "      <td>1.059034e+06</td>\n",
       "      <td>208 Michael Ferry Apt. 674\\nLaurabury, NE 3701...</td>\n",
       "    </tr>\n",
       "    <tr>\n",
       "      <th>1</th>\n",
       "      <td>79248.642455</td>\n",
       "      <td>6.002900</td>\n",
       "      <td>6.730821</td>\n",
       "      <td>3.09</td>\n",
       "      <td>40173.072174</td>\n",
       "      <td>1.505891e+06</td>\n",
       "      <td>188 Johnson Views Suite 079\\nLake Kathleen, CA...</td>\n",
       "    </tr>\n",
       "    <tr>\n",
       "      <th>2</th>\n",
       "      <td>61287.067179</td>\n",
       "      <td>5.865890</td>\n",
       "      <td>8.512727</td>\n",
       "      <td>5.13</td>\n",
       "      <td>36882.159400</td>\n",
       "      <td>1.058988e+06</td>\n",
       "      <td>9127 Elizabeth Stravenue\\nDanieltown, WI 06482...</td>\n",
       "    </tr>\n",
       "    <tr>\n",
       "      <th>3</th>\n",
       "      <td>63345.240046</td>\n",
       "      <td>7.188236</td>\n",
       "      <td>5.586729</td>\n",
       "      <td>3.26</td>\n",
       "      <td>34310.242831</td>\n",
       "      <td>1.260617e+06</td>\n",
       "      <td>USS Barnett\\nFPO AP 44820</td>\n",
       "    </tr>\n",
       "    <tr>\n",
       "      <th>4</th>\n",
       "      <td>59982.197226</td>\n",
       "      <td>5.040555</td>\n",
       "      <td>7.839388</td>\n",
       "      <td>4.23</td>\n",
       "      <td>26354.109472</td>\n",
       "      <td>6.309435e+05</td>\n",
       "      <td>USNS Raymond\\nFPO AE 09386</td>\n",
       "    </tr>\n",
       "    <tr>\n",
       "      <th>...</th>\n",
       "      <td>...</td>\n",
       "      <td>...</td>\n",
       "      <td>...</td>\n",
       "      <td>...</td>\n",
       "      <td>...</td>\n",
       "      <td>...</td>\n",
       "      <td>...</td>\n",
       "    </tr>\n",
       "    <tr>\n",
       "      <th>4995</th>\n",
       "      <td>60567.944140</td>\n",
       "      <td>7.830362</td>\n",
       "      <td>6.137356</td>\n",
       "      <td>3.46</td>\n",
       "      <td>22837.361035</td>\n",
       "      <td>1.060194e+06</td>\n",
       "      <td>USNS Williams\\nFPO AP 30153-7653</td>\n",
       "    </tr>\n",
       "    <tr>\n",
       "      <th>4996</th>\n",
       "      <td>78491.275435</td>\n",
       "      <td>6.999135</td>\n",
       "      <td>6.576763</td>\n",
       "      <td>4.02</td>\n",
       "      <td>25616.115489</td>\n",
       "      <td>1.482618e+06</td>\n",
       "      <td>PSC 9258, Box 8489\\nAPO AA 42991-3352</td>\n",
       "    </tr>\n",
       "    <tr>\n",
       "      <th>4997</th>\n",
       "      <td>63390.686886</td>\n",
       "      <td>7.250591</td>\n",
       "      <td>4.805081</td>\n",
       "      <td>2.13</td>\n",
       "      <td>33266.145490</td>\n",
       "      <td>1.030730e+06</td>\n",
       "      <td>4215 Tracy Garden Suite 076\\nJoshualand, VA 01...</td>\n",
       "    </tr>\n",
       "    <tr>\n",
       "      <th>4998</th>\n",
       "      <td>68001.331235</td>\n",
       "      <td>5.534388</td>\n",
       "      <td>7.130144</td>\n",
       "      <td>5.44</td>\n",
       "      <td>42625.620156</td>\n",
       "      <td>1.198657e+06</td>\n",
       "      <td>USS Wallace\\nFPO AE 73316</td>\n",
       "    </tr>\n",
       "    <tr>\n",
       "      <th>4999</th>\n",
       "      <td>65510.581804</td>\n",
       "      <td>5.992305</td>\n",
       "      <td>6.792336</td>\n",
       "      <td>4.07</td>\n",
       "      <td>46501.283803</td>\n",
       "      <td>1.298950e+06</td>\n",
       "      <td>37778 George Ridges Apt. 509\\nEast Holly, NV 2...</td>\n",
       "    </tr>\n",
       "  </tbody>\n",
       "</table>\n",
       "<p>5000 rows × 7 columns</p>\n",
       "</div>"
      ],
      "text/plain": [
       "      Avg. Area Income  Avg. Area House Age  Avg. Area Number of Rooms   \n",
       "0         79545.458574             5.682861                   7.009188  \\\n",
       "1         79248.642455             6.002900                   6.730821   \n",
       "2         61287.067179             5.865890                   8.512727   \n",
       "3         63345.240046             7.188236                   5.586729   \n",
       "4         59982.197226             5.040555                   7.839388   \n",
       "...                ...                  ...                        ...   \n",
       "4995      60567.944140             7.830362                   6.137356   \n",
       "4996      78491.275435             6.999135                   6.576763   \n",
       "4997      63390.686886             7.250591                   4.805081   \n",
       "4998      68001.331235             5.534388                   7.130144   \n",
       "4999      65510.581804             5.992305                   6.792336   \n",
       "\n",
       "      Avg. Area Number of Bedrooms  Area Population         Price   \n",
       "0                             4.09     23086.800503  1.059034e+06  \\\n",
       "1                             3.09     40173.072174  1.505891e+06   \n",
       "2                             5.13     36882.159400  1.058988e+06   \n",
       "3                             3.26     34310.242831  1.260617e+06   \n",
       "4                             4.23     26354.109472  6.309435e+05   \n",
       "...                            ...              ...           ...   \n",
       "4995                          3.46     22837.361035  1.060194e+06   \n",
       "4996                          4.02     25616.115489  1.482618e+06   \n",
       "4997                          2.13     33266.145490  1.030730e+06   \n",
       "4998                          5.44     42625.620156  1.198657e+06   \n",
       "4999                          4.07     46501.283803  1.298950e+06   \n",
       "\n",
       "                                                Address  \n",
       "0     208 Michael Ferry Apt. 674\\nLaurabury, NE 3701...  \n",
       "1     188 Johnson Views Suite 079\\nLake Kathleen, CA...  \n",
       "2     9127 Elizabeth Stravenue\\nDanieltown, WI 06482...  \n",
       "3                             USS Barnett\\nFPO AP 44820  \n",
       "4                            USNS Raymond\\nFPO AE 09386  \n",
       "...                                                 ...  \n",
       "4995                   USNS Williams\\nFPO AP 30153-7653  \n",
       "4996              PSC 9258, Box 8489\\nAPO AA 42991-3352  \n",
       "4997  4215 Tracy Garden Suite 076\\nJoshualand, VA 01...  \n",
       "4998                          USS Wallace\\nFPO AE 73316  \n",
       "4999  37778 George Ridges Apt. 509\\nEast Holly, NV 2...  \n",
       "\n",
       "[5000 rows x 7 columns]"
      ]
     },
     "execution_count": 54,
     "metadata": {},
     "output_type": "execute_result"
    }
   ],
   "source": [
    "df = pd.read_csv('USA_Housing.csv', delimiter=',')\n",
    "df"
   ]
  },
  {
   "cell_type": "code",
   "execution_count": 55,
   "id": "baff0df3",
   "metadata": {},
   "outputs": [
    {
     "data": {
      "text/plain": [
       "(array([[7.95454586e+04, 5.68286132e+00, 7.00918814e+00, 4.09000000e+00,\n",
       "         2.30868005e+04, 1.05903356e+06],\n",
       "        [7.92486425e+04, 6.00289981e+00, 6.73082102e+00, 3.09000000e+00,\n",
       "         4.01730722e+04, 1.50589091e+06],\n",
       "        [6.12870672e+04, 5.86588984e+00, 8.51272743e+00, 5.13000000e+00,\n",
       "         3.68821594e+04, 1.05898799e+06],\n",
       "        ...,\n",
       "        [6.33906869e+04, 7.25059061e+00, 4.80508098e+00, 2.13000000e+00,\n",
       "         3.32661455e+04, 1.03072958e+06],\n",
       "        [6.80013312e+04, 5.53438842e+00, 7.13014386e+00, 5.44000000e+00,\n",
       "         4.26256202e+04, 1.19865687e+06],\n",
       "        [6.55105818e+04, 5.99230531e+00, 6.79233610e+00, 4.07000000e+00,\n",
       "         4.65012838e+04, 1.29895048e+06]]),\n",
       " (5000, 6))"
      ]
     },
     "execution_count": 55,
     "metadata": {},
     "output_type": "execute_result"
    }
   ],
   "source": [
    "data = (df.values[:,:-1]).astype(float)\n",
    "data, data.shape"
   ]
  },
  {
   "cell_type": "code",
   "execution_count": 56,
   "id": "cbe21b81",
   "metadata": {},
   "outputs": [
    {
     "data": {
      "text/plain": [
       "(array([[ 1.13592777e+08, -2.12059969e+01, -1.18261183e+02,\n",
       "          2.60282865e+02, -1.71732663e+06,  2.40765379e+09],\n",
       "        [-2.12059969e+01,  9.82985357e-01, -9.40226613e-03,\n",
       "          7.52377968e-03, -1.84444655e+02,  1.58435438e+05],\n",
       "        [-1.18261183e+02, -9.40226613e-03,  1.01170049e+00,\n",
       "          5.74359913e-01,  2.03657209e+01,  1.19220442e+05],\n",
       "        [ 2.60282865e+02,  7.52377968e-03,  5.74359913e-01,\n",
       "          1.52309479e+00, -2.71545071e+02,  7.45520049e+04],\n",
       "        [-1.71732663e+06, -1.84444655e+02,  2.03657209e+01,\n",
       "         -2.71545071e+02,  9.85185302e+07,  1.43195649e+09],\n",
       "        [ 2.40765379e+09,  1.58435438e+05,  1.19220442e+05,\n",
       "          7.45520049e+04,  1.43195649e+09,  1.24692058e+11]]),\n",
       " (6, 6))"
      ]
     },
     "execution_count": 56,
     "metadata": {},
     "output_type": "execute_result"
    }
   ],
   "source": [
    "# Calculate covariance matrix\n",
    "sigma = np.cov(data, rowvar=False) # Feature on row axis => set rowvar = False\n",
    "sigma, sigma.shape"
   ]
  },
  {
   "cell_type": "code",
   "execution_count": 57,
   "id": "69a616a0",
   "metadata": {
    "scrolled": false
   },
   "outputs": [
    {
     "name": "stdout",
     "output_type": "stream",
     "text": [
      "P = [[-1.93116080e-02  6.13514353e-01  7.89447397e-01 -2.72527706e-05\n",
      "   1.87184137e-05 -8.25932440e-05]\n",
      " [-1.26963165e-06 -2.93438847e-06 -8.27424761e-05  2.93428522e-01\n",
      "   5.44430809e-01 -7.85808368e-01]\n",
      " [-9.55378801e-07 -4.00465138e-06 -6.18815007e-05 -4.57537821e-01\n",
      "  -6.41754770e-01 -6.15475388e-01]\n",
      " [-5.97451679e-07  1.59085439e-06 -3.66746802e-05 -8.39380035e-01\n",
      "   5.40135084e-01  6.07885365e-02]\n",
      " [-1.14840533e-02 -7.89678676e-01  6.13413157e-01 -2.16389021e-05\n",
      "   1.68655721e-05 -5.80177749e-05]\n",
      " [-9.99747557e-01 -2.77993843e-03 -2.22955962e-02  1.34120051e-06\n",
      "  -9.56221481e-07  3.81163088e-06]] \n",
      "\n",
      "D = [1.24755014e+11 1.04893725e+08 4.42613588e+07 1.71587040e+00\n",
      " 7.16818807e-01 1.90687645e-01] \n",
      "\n",
      "Pt = [[-1.93116080e-02 -1.26963165e-06 -9.55378801e-07 -5.97451679e-07\n",
      "  -1.14840533e-02 -9.99747557e-01]\n",
      " [ 6.13514353e-01 -2.93438849e-06 -4.00465138e-06  1.59085439e-06\n",
      "  -7.89678676e-01 -2.77993843e-03]\n",
      " [ 7.89447397e-01 -8.27424761e-05 -6.18815007e-05 -3.66746802e-05\n",
      "   6.13413157e-01 -2.22955962e-02]\n",
      " [-2.72527705e-05  2.93428522e-01 -4.57537821e-01 -8.39380035e-01\n",
      "  -2.16389021e-05  1.34120051e-06]\n",
      " [ 1.87184138e-05  5.44430809e-01 -6.41754770e-01  5.40135084e-01\n",
      "   1.68655721e-05 -9.56221482e-07]\n",
      " [-8.25932440e-05 -7.85808367e-01 -6.15475388e-01  6.07885366e-02\n",
      "  -5.80177749e-05  3.81163088e-06]]\n"
     ]
    }
   ],
   "source": [
    "# Apply SVD on covariance matrix sigma\n",
    "P, D, Pt = np.linalg.svd(sigma)\n",
    "print('P =', P, '\\n')\n",
    "print('D =', D, '\\n')\n",
    "print('Pt =', Pt)"
   ]
  },
  {
   "cell_type": "code",
   "execution_count": 58,
   "id": "07ae4f39",
   "metadata": {},
   "outputs": [
    {
     "data": {
      "text/plain": [
       "0.9996456374385339"
      ]
     },
     "execution_count": 58,
     "metadata": {},
     "output_type": "execute_result"
    }
   ],
   "source": [
    "# Choose k = 2\n",
    "k = 2\n",
    "inflection_point = np.sum(D[:k])/np.sum(D[:])\n",
    "inflection_point"
   ]
  },
  {
   "cell_type": "code",
   "execution_count": 59,
   "id": "75b4d76a",
   "metadata": {},
   "outputs": [
    {
     "data": {
      "text/plain": [
       "(array([[-1.93116080e-02,  6.13514353e-01,  7.89447397e-01,\n",
       "         -2.72527706e-05,  1.87184137e-05, -8.25932440e-05],\n",
       "        [-1.26963165e-06, -2.93438847e-06, -8.27424761e-05,\n",
       "          2.93428522e-01,  5.44430809e-01, -7.85808368e-01]]),\n",
       " (2, 6))"
      ]
     },
     "execution_count": 59,
     "metadata": {},
     "output_type": "execute_result"
    }
   ],
   "source": [
    "# New subspaces\n",
    "Pk = P[:k]\n",
    "Pk, Pk.shape"
   ]
  },
  {
   "cell_type": "code",
   "execution_count": 76,
   "id": "4302b2f6",
   "metadata": {},
   "outputs": [
    {
     "data": {
      "text/plain": [
       "array([-1.93116080e-02,  6.13514353e-01,  7.89447397e-01, -2.72527706e-05,\n",
       "        1.87184137e-05, -8.25932440e-05])"
      ]
     },
     "execution_count": 76,
     "metadata": {},
     "output_type": "execute_result"
    }
   ],
   "source": [
    "# First PC and second PC\n",
    "Pk[0]\n",
    "# => Feature 2 and 3 is the most significant features on the first PC"
   ]
  },
  {
   "cell_type": "code",
   "execution_count": 79,
   "id": "f7a3dca7",
   "metadata": {},
   "outputs": [
    {
     "data": {
      "text/plain": [
       "(array([[   1633.07189033,  844767.898449  ],\n",
       "        [   1664.54368518, 1205214.14752865],\n",
       "        [   1282.02674128,  852242.98967497],\n",
       "        ...,\n",
       "        [   1318.1718412 ,  828067.75149547],\n",
       "        [   1422.0383418 ,  965122.98417942],\n",
       "        [   1382.30830574, 1046044.16595249]]),\n",
       " (5000, 2))"
      ]
     },
     "execution_count": 79,
     "metadata": {},
     "output_type": "execute_result"
    }
   ],
   "source": [
    "# Project old data into new subspaces\n",
    "new_data = np.dot(data, np.abs(Pk.T))\n",
    "new_data, new_data.shape"
   ]
  },
  {
   "cell_type": "code",
   "execution_count": 81,
   "id": "737fac54",
   "metadata": {},
   "outputs": [
    {
     "data": {
      "image/png": "[encoded data removed]",
      "text/plain": [
       "<Figure size 640x480 with 1 Axes>"
      ]
     },
     "metadata": {},
     "output_type": "display_data"
    }
   ],
   "source": [
    "plt.xlabel(\"PC1\")\n",
    "plt.ylabel(\"PC2\")\n",
    "plt.grid()\n",
    "\n",
    "plt.scatter(new_data[:100, 0:1], new_data[:100, 1:2])\n",
    "plt.show()"
   ]
  },
  {
   "cell_type": "code",
   "execution_count": null,
   "id": "f7d0332d",
   "metadata": {},
   "outputs": [],
   "source": []
  }
 ],
 "metadata": {
  "kernelspec": {
   "display_name": "Python 3 (ipykernel)",
   "language": "python",
   "name": "python3"
  },
  "language_info": {
   "codemirror_mode": {
    "name": "ipython",
    "version": 3
   },
   "file_extension": ".py",
   "mimetype": "text/x-python",
   "name": "python",
   "nbconvert_exporter": "python",
   "pygments_lexer": "ipython3",
   "version": "3.11.2"
  }
 },
 "nbformat": 4,
 "nbformat_minor": 5
}
